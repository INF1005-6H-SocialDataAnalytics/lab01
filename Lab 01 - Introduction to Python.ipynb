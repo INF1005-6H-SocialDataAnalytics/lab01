{
 "cells": [
  {
   "cell_type": "markdown",
   "metadata": {},
   "source": [
    "# Lab 01 - Introduction to Python\n",
    "\n",
    "This lab is an introduction to Python, a programming language which can beused for not only social data analytical tasks, but also general interest programming, statistical analysis, and other data science-type tasks. Python is a language which has been around for over 10 years, has a vibrant community, and an open-source codebase. This means that if you have an issue with Python, there are many resources available for solving this issue.\n",
    "\n",
    "## Setup\n",
    "\n",
    "The version of Python we're using in this course is [Anaconda Python](https://www.continuum.io/downloads), Python 3.5 version. We're using this because there are many data science tools which come included automatically. We don't have to go through the trouble of installing anything else for what we plan to do.\n",
    "\n",
    "You can download this on your home computer or laptop if you'd like. For this class, we're going to use the version installed on the lab computers in DH 2010.\n",
    "\n",
    "The first thing you need to do is start the Anaconda Navigator, which is under the start menu in Windows. It will be in a different place on Mac, probably Applications.\n",
    "\n",
    "![Anaconda Navigator](img/00a-desktop.png)\n",
    "\n",
    "This will start a program which will give you a host of tools for writing Python code. For this class we will be using Jupyter Notebook, which is a way to put your code and notes about that code (called *documentation*) in the same file. The file you're looking at now was written in Jupyter Notebook.\n",
    "\n",
    "Start the Jupyter Notebook by clicking Launch.\n",
    "\n",
    "![Jupyter Notebook](img/01a-jupyter.png)\n",
    "\n",
    "After that you will get a window which looks like this. It will list a bunch of files. You should click Desktop and use the dropdown menu to create a new folder. Call it Lab1.\n",
    "\n",
    "![Jupyter screen](img/02-jupyter-window.png)\n",
    "![Jupyter desktop](img/04a-jupyter-new-file.png)\n",
    "\n",
    "After that, enter the folder and create a new Python file by selecting **Python [Root]**. Once you do that, you should get a new screen which looks like this.\n",
    "\n",
    "![New file](img/05a-new-file.png)\n",
    "\n",
    "Click the **Untitled** text and give the file a new name, such as Lab 1. \n",
    "\n",
    "![Title](img/06a-title.png)\n",
    "\n",
    "Jupyter Notebooks work by operating on what are called *cells*. Those are the boxes which make up the notebook. A new cell will start with <code>In [ ]</code> and by default will take Python code. You can change the cell type by selecting content types in the center of the toolbar. For the first cell, let's selection type called *Markdown*. Markdown is a markup language which let's you create headers, lists, and emphasis. \n",
    "\n",
    "Try selecting Markdown, then entering the text <code># Lab 1</code>. This will be our title. Once you enter that, press the button in the toolbar which looks like a play button. This will *run* the cell.\n",
    "\n",
    "![Title2](img/07a-title2.png)\n",
    "\n",
    "Now we're working. In the next box, we can start actually writing code. Let's do something easy. Type <code>1 + 1</code> in the box and press the Run Cell button.\n",
    "\n",
    "![1 + 1](img/08a-math.png)\n",
    "\n",
    "That's pretty much it when it comes to Jupyter Notebooks. Now, let's get to learning the mechanics of the Python programming language."
   ]
  },
  {
   "cell_type": "markdown",
   "metadata": {},
   "source": [
    "## Types\n",
    "\n",
    "There are several different *types* available in Python. Python *objects* can take on any one of these types. \n",
    "\n",
    "Basic numbers can take on several type, the two most important being *integers* (e.g. 1, 2, -5) and *floating point* number or *floats* (e.g. 1.3, 0.5)."
   ]
  },
  {
   "cell_type": "code",
   "execution_count": null,
   "metadata": {
    "collapsed": false
   },
   "outputs": [],
   "source": [
    "## Integers\n",
    "1\n",
    "2\n",
    "-5\n",
    "\n",
    "## Floats\n",
    "1.4\n",
    "20.3453"
   ]
  },
  {
   "cell_type": "markdown",
   "metadata": {},
   "source": [
    "You can add documentation with *comments*. Comments start with the <code>#\n",
    "</code> character."
   ]
  },
  {
   "cell_type": "markdown",
   "metadata": {},
   "source": [
    "There are many different types in Python. For today, we'll cover strings and booleans."
   ]
  },
  {
   "cell_type": "markdown",
   "metadata": {},
   "source": [
    "## Strings\n",
    "\n",
    "*Strings* are bits of text."
   ]
  },
  {
   "cell_type": "code",
   "execution_count": null,
   "metadata": {
    "collapsed": false
   },
   "outputs": [],
   "source": [
    "\"This is a string.\""
   ]
  },
  {
   "cell_type": "markdown",
   "metadata": {},
   "source": [
    "You can also put two strings together with a plus sign."
   ]
  },
  {
   "cell_type": "code",
   "execution_count": null,
   "metadata": {
    "collapsed": false
   },
   "outputs": [],
   "source": [
    "\"This is a string.\" + \" \" + \"This is another string.\""
   ]
  },
  {
   "cell_type": "markdown",
   "metadata": {},
   "source": [
    "*Booleans* are logical values. Booleans can be denoted by keywords or logical statements. The major keywords in Python are <code>True</code>, <code>False</code>."
   ]
  },
  {
   "cell_type": "code",
   "execution_count": null,
   "metadata": {
    "collapsed": false
   },
   "outputs": [],
   "source": [
    "True\n",
    "False"
   ]
  },
  {
   "cell_type": "markdown",
   "metadata": {},
   "source": [
    "We'll be more into logical statements and operators below."
   ]
  },
  {
   "cell_type": "markdown",
   "metadata": {},
   "source": [
    "## Arithmetic\n",
    "\n",
    "Let's start off easy. Python can function as a simple calculator with all the usual operations: addition, subtraction, multiplication, and division."
   ]
  },
  {
   "cell_type": "code",
   "execution_count": 1,
   "metadata": {
    "collapsed": false
   },
   "outputs": [
    {
     "data": {
      "text/plain": [
       "4"
      ]
     },
     "execution_count": 1,
     "metadata": {},
     "output_type": "execute_result"
    }
   ],
   "source": [
    "1 + 3 # addition"
   ]
  },
  {
   "cell_type": "code",
   "execution_count": 2,
   "metadata": {
    "collapsed": false
   },
   "outputs": [
    {
     "data": {
      "text/plain": [
       "-2"
      ]
     },
     "execution_count": 2,
     "metadata": {},
     "output_type": "execute_result"
    }
   ],
   "source": [
    "3 - 5 # subtraction"
   ]
  },
  {
   "cell_type": "code",
   "execution_count": 3,
   "metadata": {
    "collapsed": false
   },
   "outputs": [
    {
     "data": {
      "text/plain": [
       "40"
      ]
     },
     "execution_count": 3,
     "metadata": {},
     "output_type": "execute_result"
    }
   ],
   "source": [
    "4 * 10 # multiplication"
   ]
  },
  {
   "cell_type": "code",
   "execution_count": 4,
   "metadata": {
    "collapsed": false
   },
   "outputs": [
    {
     "data": {
      "text/plain": [
       "3.3333333333333335"
      ]
     },
     "execution_count": 4,
     "metadata": {},
     "output_type": "execute_result"
    }
   ],
   "source": [
    "10 / 3 # division"
   ]
  },
  {
   "cell_type": "markdown",
   "metadata": {},
   "source": [
    "Python will also obey the usual order of operations."
   ]
  },
  {
   "cell_type": "code",
   "execution_count": 5,
   "metadata": {
    "collapsed": false
   },
   "outputs": [
    {
     "data": {
      "text/plain": [
       "26"
      ]
     },
     "execution_count": 5,
     "metadata": {},
     "output_type": "execute_result"
    }
   ],
   "source": [
    "1 + 3 * 5 + 10"
   ]
  },
  {
   "cell_type": "markdown",
   "metadata": {},
   "source": [
    "But you can also use parentheses to order operations as you'd like."
   ]
  },
  {
   "cell_type": "code",
   "execution_count": 10,
   "metadata": {
    "collapsed": false
   },
   "outputs": [
    {
     "data": {
      "text/plain": [
       "30"
      ]
     },
     "execution_count": 10,
     "metadata": {},
     "output_type": "execute_result"
    }
   ],
   "source": [
    "(1 + 3) * 5 + 10"
   ]
  },
  {
   "cell_type": "markdown",
   "metadata": {},
   "source": [
    "You can also do basic operations like exponentials as built-in operations."
   ]
  },
  {
   "cell_type": "code",
   "execution_count": 12,
   "metadata": {
    "collapsed": false
   },
   "outputs": [
    {
     "data": {
      "text/plain": [
       "100"
      ]
     },
     "execution_count": 12,
     "metadata": {},
     "output_type": "execute_result"
    }
   ],
   "source": [
    "10**2"
   ]
  },
  {
   "cell_type": "code",
   "execution_count": 13,
   "metadata": {
    "collapsed": false
   },
   "outputs": [
    {
     "data": {
      "text/plain": [
       "8.0"
      ]
     },
     "execution_count": 13,
     "metadata": {},
     "output_type": "execute_result"
    }
   ],
   "source": [
    "64**0.5"
   ]
  },
  {
   "cell_type": "markdown",
   "metadata": {},
   "source": [
    "**Exercise 1**: Try to do some arithmetic yourself for a few minutes. \n",
    "\n",
    "1. What seems to work? What gives you an error?\n",
    "2. What happens when you try to add a number with a boolean or string?"
   ]
  },
  {
   "cell_type": "markdown",
   "metadata": {},
   "source": [
    "## Variables\n",
    "\n",
    "Usually you want to use a representation of an object, instead of the object itself. This helps because you can use it later and name it something descriptive. You can also manipulate them in place of numbers."
   ]
  },
  {
   "cell_type": "code",
   "execution_count": 16,
   "metadata": {
    "collapsed": false
   },
   "outputs": [
    {
     "data": {
      "text/plain": [
       "18.75"
      ]
     },
     "execution_count": 16,
     "metadata": {},
     "output_type": "execute_result"
    }
   ],
   "source": [
    "height_cm = 200\n",
    "weight_kg = 75\n",
    "\n",
    "bmi = weight_kg / (height_cm**2) * 10**4\n",
    "bmi"
   ]
  },
  {
   "cell_type": "markdown",
   "metadata": {},
   "source": [
    "So far, we have been printing out variables by typing them, but you can also print out using the <code>print</code> function. A *function* is a bit of code which you can reuse in other parts of the code. There are many different built-in functions that come with Python. "
   ]
  },
  {
   "cell_type": "code",
   "execution_count": 17,
   "metadata": {
    "collapsed": false
   },
   "outputs": [
    {
     "name": "stdout",
     "output_type": "stream",
     "text": [
      "18.75\n"
     ]
    }
   ],
   "source": [
    "print(bmi)"
   ]
  },
  {
   "cell_type": "markdown",
   "metadata": {},
   "source": [
    "You can also store strings or booleans in variables and treat them like usual."
   ]
  },
  {
   "cell_type": "code",
   "execution_count": 26,
   "metadata": {
    "collapsed": false
   },
   "outputs": [
    {
     "name": "stdout",
     "output_type": "stream",
     "text": [
      "john smith\n"
     ]
    }
   ],
   "source": [
    "first_name = \"john\"\n",
    "last_name = \"smith\"\n",
    "\n",
    "name = \"john\" + \" \" + \"smith\"\n",
    "print(name)"
   ]
  },
  {
   "cell_type": "code",
   "execution_count": 28,
   "metadata": {
    "collapsed": false
   },
   "outputs": [
    {
     "name": "stdout",
     "output_type": "stream",
     "text": [
      "False\n"
     ]
    }
   ],
   "source": [
    "truth = True\n",
    "false = False\n",
    "\n",
    "result = truth and false ## and is a logical operator \n",
    "print(result)"
   ]
  },
  {
   "cell_type": "markdown",
   "metadata": {},
   "source": [
    "## Data structures\n",
    "\n",
    "*Data structures* are objects which hold other objects. Over the course of the term, we're going to learn about several different ones which are better suited for statistical and data analysis. For now, we will focus on three which are part of the base Python package: *lists*, *dictionaries*, and *tuples*. They each are good for particular things."
   ]
  },
  {
   "cell_type": "markdown",
   "metadata": {},
   "source": [
    "### Lists\n",
    "\n",
    "*Lists* are ordered groupings of items. Usually every item in the list is of the same type."
   ]
  },
  {
   "cell_type": "code",
   "execution_count": 32,
   "metadata": {
    "collapsed": true
   },
   "outputs": [],
   "source": [
    "list_1 = [1, 2, 4, 8]\n",
    "list_2 = [\"one\", \"two\", \"three\"]\n",
    "list_3 = [[1, 2, 3], [4, 5, 6], [7, 8, 9]] # list of lists"
   ]
  },
  {
   "cell_type": "markdown",
   "metadata": {},
   "source": [
    "Lists are also what can call *mutable*. What that means is you add elements to the end or even the middle of a list."
   ]
  },
  {
   "cell_type": "code",
   "execution_count": 54,
   "metadata": {
    "collapsed": false
   },
   "outputs": [
    {
     "data": {
      "text/plain": [
       "[1, 3, 5]"
      ]
     },
     "execution_count": 54,
     "metadata": {},
     "output_type": "execute_result"
    }
   ],
   "source": [
    "mutable_list = [] # this list is empty\n",
    "mutable_list.append(1)\n",
    "mutable_list.append(3)\n",
    "mutable_list.append(5)\n",
    "mutable_list"
   ]
  },
  {
   "cell_type": "markdown",
   "metadata": {},
   "source": [
    "Once you're created a list, you need to be able to access the elements of the list. You can do this using an *index*, starting at 0."
   ]
  },
  {
   "cell_type": "code",
   "execution_count": 35,
   "metadata": {
    "collapsed": false
   },
   "outputs": [
    {
     "data": {
      "text/plain": [
       "1"
      ]
     },
     "execution_count": 35,
     "metadata": {},
     "output_type": "execute_result"
    }
   ],
   "source": [
    "list_1[0]"
   ]
  },
  {
   "cell_type": "code",
   "execution_count": 36,
   "metadata": {
    "collapsed": false
   },
   "outputs": [
    {
     "data": {
      "text/plain": [
       "'two'"
      ]
     },
     "execution_count": 36,
     "metadata": {},
     "output_type": "execute_result"
    }
   ],
   "source": [
    "list_2[1]"
   ]
  },
  {
   "cell_type": "code",
   "execution_count": 37,
   "metadata": {
    "collapsed": false
   },
   "outputs": [
    {
     "data": {
      "text/plain": [
       "[7, 8, 9]"
      ]
     },
     "execution_count": 37,
     "metadata": {},
     "output_type": "execute_result"
    }
   ],
   "source": [
    "list_3[2]"
   ]
  },
  {
   "cell_type": "markdown",
   "metadata": {},
   "source": [
    "You can also access *slices* of lists, which represent parts of the list."
   ]
  },
  {
   "cell_type": "code",
   "execution_count": 40,
   "metadata": {
    "collapsed": false
   },
   "outputs": [
    {
     "data": {
      "text/plain": [
       "[1, 2, 3, 4]"
      ]
     },
     "execution_count": 40,
     "metadata": {},
     "output_type": "execute_result"
    }
   ],
   "source": [
    "list_4 = [1, 2, 3, 4, 5, 6, 7, 8, 9, 10]\n",
    "list_4[0:4]"
   ]
  },
  {
   "cell_type": "markdown",
   "metadata": {},
   "source": [
    "### Dictionaries\n",
    "\n",
    "*Dictionaries* are unordered key-value pairs. This means that the way you index a dictionary is to use a key, rather than a number. This is useful when you want to use a string to access an item."
   ]
  },
  {
   "cell_type": "code",
   "execution_count": 43,
   "metadata": {
    "collapsed": false
   },
   "outputs": [
    {
     "data": {
      "text/plain": [
       "'ford'"
      ]
     },
     "execution_count": 43,
     "metadata": {},
     "output_type": "execute_result"
    }
   ],
   "source": [
    "mayors = {\n",
    "    \"rob\": \"ford\",\n",
    "    \"john\": \"tory\"\n",
    "}\n",
    "\n",
    "us_election = {\n",
    "    \"hillary\": \"clinton\",\n",
    "    \"donald\": \"trump\"    \n",
    "}\n",
    "\n",
    "prime_ministers = {\n",
    "    \"justin\": \"trudeau\",\n",
    "    \"stephen\": \"harper\"\n",
    "}\n",
    "\n",
    "mayors[\"rob\"]"
   ]
  },
  {
   "cell_type": "markdown",
   "metadata": {},
   "source": [
    "### Tuples\n",
    "\n",
    "*Tuples* are similar to lists, but usually they are thought as containing heterogenuous kinds of information. So while lists are all the same tpe, tuples are often different types. Tuples are also *immutable*, which means you can't add anything to them.\n",
    "\n",
    "You can index elements of a tuple the same way you can access elements of a list."
   ]
  },
  {
   "cell_type": "code",
   "execution_count": 42,
   "metadata": {
    "collapsed": false
   },
   "outputs": [
    {
     "data": {
      "text/plain": [
       "'ford'"
      ]
     },
     "execution_count": 42,
     "metadata": {},
     "output_type": "execute_result"
    }
   ],
   "source": [
    "tuple_1 = (\"rob\", \"ford\", 1)\n",
    "tuple_1[1]"
   ]
  },
  {
   "cell_type": "markdown",
   "metadata": {},
   "source": [
    "## Loops\n",
    "\n",
    "If we have a data structure where we want to have a look at every element of the structure, we can repeat the task using a *loop*. The most common loop we'll use in this course is the *for* loop, and more specifically the *foreach* loop.\n",
    "\n",
    "Say we want to print 10 plus the number for every number in our list. We can do the following."
   ]
  },
  {
   "cell_type": "code",
   "execution_count": 45,
   "metadata": {
    "collapsed": false
   },
   "outputs": [
    {
     "name": "stdout",
     "output_type": "stream",
     "text": [
      "11\n",
      "12\n",
      "13\n",
      "14\n",
      "15\n",
      "16\n",
      "17\n",
      "18\n",
      "19\n",
      "20\n"
     ]
    }
   ],
   "source": [
    "for item in list_4:\n",
    "    print(item + 10)"
   ]
  },
  {
   "cell_type": "markdown",
   "metadata": {},
   "source": [
    "This works the same for tuples. But, we have to be careful because tuples usually have different kinds of items in them. So we can't add 10 to each, or else we would get an error."
   ]
  },
  {
   "cell_type": "code",
   "execution_count": 47,
   "metadata": {
    "collapsed": false
   },
   "outputs": [
    {
     "name": "stdout",
     "output_type": "stream",
     "text": [
      "rob\n",
      "ford\n",
      "1\n"
     ]
    }
   ],
   "source": [
    "for item in tuple_1:\n",
    "    print(item)"
   ]
  },
  {
   "cell_type": "markdown",
   "metadata": {},
   "source": [
    "This looks a little different for dictionaries. We have to be able to separate the key from the value."
   ]
  },
  {
   "cell_type": "code",
   "execution_count": 48,
   "metadata": {
    "collapsed": false
   },
   "outputs": [
    {
     "name": "stdout",
     "output_type": "stream",
     "text": [
      "rob ford has been the mayor of Toronto.\n",
      "john tory has been the mayor of Toronto.\n"
     ]
    }
   ],
   "source": [
    "for key, value in mayors.items():\n",
    "    print(key + \" \" + value + \" has been the mayor of Toronto.\")"
   ]
  },
  {
   "cell_type": "markdown",
   "metadata": {},
   "source": [
    "**Exercise 2**\n",
    "\n",
    "1. Create a list variable called <code>likert</code> with numbers from -3 to 3. I will use the notation [-3, 3] to denote this.\n",
    "2. Create a list variable called <code>responses</code> with 100 random elements in the range [-3, 3], which you can do that with the following code:\n",
    "<pre> \n",
    "  import random\n",
    "  random.randint(-3, 3)\n",
    "</pre>\n",
    "3. Create a dictionary variable called <code>codebook</code> which has three elements: <code>q1</code>, <code>q2</code>, and <code>q3</code>. <code>q1</code> will be a list of 10 random elements from [-3, 3], <code>q2</code> will be 100 random elements of the same range, and <code>q3</code> will be 1000 random elements of the same range.\n",
    "4. Generate the mean (average) of each element in <code>codebook</code>."
   ]
  }
 ],
 "metadata": {
  "anaconda-cloud": {},
  "kernelspec": {
   "display_name": "Python [Root]",
   "language": "python",
   "name": "Python [Root]"
  },
  "language_info": {
   "codemirror_mode": {
    "name": "ipython",
    "version": 3
   },
   "file_extension": ".py",
   "mimetype": "text/x-python",
   "name": "python",
   "nbconvert_exporter": "python",
   "pygments_lexer": "ipython3",
   "version": "3.5.2"
  }
 },
 "nbformat": 4,
 "nbformat_minor": 0
}
